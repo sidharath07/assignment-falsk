{
 "cells": [
  {
   "cell_type": "code",
   "execution_count": 3,
   "id": "ae66692d-9de7-4da3-8f38-19259f689f85",
   "metadata": {},
   "outputs": [],
   "source": [
    "# # flask framework :- it’s a Python module that lets you develop web applications easily. It’s has a small and \n",
    "# easy-to-extend core: it’s a microframework that doesn’t include an ORM (Object Relational Manager) or such features."
   ]
  },
  {
   "cell_type": "code",
   "execution_count": 4,
   "id": "63eb834c-a4e1-42da-b563-d8f419b2f5d4",
   "metadata": {},
   "outputs": [],
   "source": [
    "# # app route in flask :- raute is a networking device and with the help of route conect diffrent type of networks \n",
    "# which works as traffic cantorller. a main work  of router which the data packet recive data "
   ]
  },
  {
   "cell_type": "code",
   "execution_count": 5,
   "id": "7f219141-f88b-493f-9790-982d9f2e9374",
   "metadata": {},
   "outputs": [],
   "source": [
    "# # why do you we use app routes ? :-\n",
    "# The route() decorator in Flask is used to bind an URL to a function.\n",
    "# As a result when the URL is mentioned in the browser, the function is executed to give the result.\n",
    "# Here, URL '/hello' rule is bound to the hello_world() function."
   ]
  },
  {
   "cell_type": "code",
   "execution_count": 2,
   "id": "45119af4-c174-4ee9-895f-cdff3f335fa8",
   "metadata": {},
   "outputs": [],
   "source": [
    "# # from flask import Flask\n",
    "\n",
    "# app = Flask(__name__)\n",
    "\n",
    "# @app.route(\"/\")\n",
    "# def hello_world():\n",
    "#     return \"<h1>Hello, World!</h1>\"\n",
    "    \n",
    "# @app.route(\"/welcome\")\n",
    "# def welcome_message():\n",
    "#     return \"<h1> company name ABC carprotion , location india, contact details 999-999-999!<h1>\"   \n",
    "\n",
    "# if __name__==\"__main__\":\n",
    "#     app.run(host=\"0.0.0.0\")\n"
   ]
  },
  {
   "cell_type": "code",
   "execution_count": 3,
   "id": "86349a98-e94c-486b-957d-d78dbce62806",
   "metadata": {},
   "outputs": [],
   "source": [
    "# from flask import Flask\n",
    "# from flask import request\n",
    "# app = Flask(__name__)\n",
    "\n",
    "# @app.route(\"/\")\n",
    "# def hello_world():\n",
    "#     return \"<h1>Hello, World!</h1>\"\n",
    "\n",
    "\n",
    "# @app.route(\"/hello_world1\")\n",
    "# def hello_world1():\n",
    "#     return \"<h1>Hello, World!1</h1>\"\n",
    "\n",
    "\n",
    "# @app.route(\"/hello_world2\")\n",
    "# def hello_world2():\n",
    "#     return \"<h1>Hello, World!2</h1>\"\n",
    "\n",
    "# @app.route(\"/test\")\n",
    "# def test():\n",
    "#     a = 5+7\n",
    "#     return \"this is my first flask class {}\".format(a)\n",
    "\n",
    "# @app.route('/test2/test2')\n",
    "# def test2():\n",
    "#     data = request.args.get('x')\n",
    "#     return \"this is data input from my url{}\".format(data)\n",
    "\n",
    "# if __name__==\"__main__\":\n",
    "#     app.run(host=\"0.0.0.0\")\n"
   ]
  },
  {
   "cell_type": "code",
   "execution_count": null,
   "id": "616b0dd1-dccd-4b4d-859d-1a9bcb0117a4",
   "metadata": {},
   "outputs": [],
   "source": []
  }
 ],
 "metadata": {
  "kernelspec": {
   "display_name": "Python 3 (ipykernel)",
   "language": "python",
   "name": "python3"
  },
  "language_info": {
   "codemirror_mode": {
    "name": "ipython",
    "version": 3
   },
   "file_extension": ".py",
   "mimetype": "text/x-python",
   "name": "python",
   "nbconvert_exporter": "python",
   "pygments_lexer": "ipython3",
   "version": "3.10.8"
  }
 },
 "nbformat": 4,
 "nbformat_minor": 5
}
